{
 "cells": [
  {
   "cell_type": "code",
   "execution_count": 127,
   "metadata": {
    "slideshow": {
     "slide_type": "-"
    }
   },
   "outputs": [],
   "source": [
    "import sys\n",
    "import os\n",
    "import tkinter as tk\n",
    "from tkinter import ttk\n",
    "from tkinter.filedialog import askdirectory"
   ]
  },
  {
   "cell_type": "code",
   "execution_count": 136,
   "metadata": {},
   "outputs": [],
   "source": [
    "def select_path():\n",
    "    path = askdirectory()  # 调用选择路径对话框，选择路径\n",
    "    return path"
   ]
  },
  {
   "cell_type": "code",
   "execution_count": 137,
   "metadata": {},
   "outputs": [],
   "source": [
    "def handle_files():\n",
    "    path_orig = select_path()\n",
    "    file_list = os.listdir(path_orig)\n",
    "#    print(file_list)\n",
    "    for j in range(len(file_list)):\n",
    "        file_name = file_list[j]\n",
    "#        print(file_name)\n",
    "        num = file_list[j][-4:]\n",
    "        path1 = os.path.join(path_orig,file_name)\n",
    "        jpg = os.listdir(path1)\n",
    "        jpg.sort()\n",
    "        i=2\n",
    "        for data in jpg : \n",
    "            input_jpg = os.path.join(path1,data)\n",
    "            print(input_jpg)\n",
    "            new_name = num+'_'+str(i)+'.jpg'\n",
    "            output_jpg=os.path.join(path1,new_name)\n",
    "            print(output_jpg)\n",
    "            os.rename(input_jpg,output_jpg)\n",
    "            i=i+1\n",
    "        listbox.yview(tk.END) "
   ]
  },
  {
   "cell_type": "code",
   "execution_count": 138,
   "metadata": {},
   "outputs": [],
   "source": [
    "dialog = tk.Tk()\n",
    "dialog.title('rename tool')\n",
    "dialog.resizable(width=False, height=False)  # window size can not change\n",
    "\n",
    "path = tk.StringVar()  
    "\n",
    "# 定义控件\n",
    "label = ttk.Label(dialog, text='choose the fold：')\n",
    "entry = ttk.Entry(dialog, width=40, textvariable=path)\n",
    "button_select = ttk.Button(dialog, text='choose path', command=select_path)\n",
    "button_handle = ttk.Button(dialog, text='running', command=handle_files)\n",
    "scrollbar_x = ttk.Scrollbar(dialog, orient=tk.HORIZONTAL)\n",
    "scrollbar_y = ttk.Scrollbar(dialog)\n",
    "listbox = tk.Listbox(dialog, \n",
    "                     xscrollcommand=scrollbar_x.set, \n",
    "                     yscrollcommand=scrollbar_y.set)  # 列表绑定滚动条\n",
    "scrollbar_x.config(command=listbox.xview)  # 滚动条绑定列表滚动\n",
    "scrollbar_y.config(command=listbox.yview)"
   ]
  },
  {
   "cell_type": "code",
   "execution_count": 139,
   "metadata": {
    "scrolled": false
   }
 
